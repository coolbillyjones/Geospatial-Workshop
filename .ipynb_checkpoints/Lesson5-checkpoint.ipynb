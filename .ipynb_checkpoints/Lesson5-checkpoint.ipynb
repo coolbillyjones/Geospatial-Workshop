{
 "cells": [
  {
   "cell_type": "code",
   "execution_count": 24,
   "id": "93cf8cb4-3732-47dd-8575-5dc792af4235",
   "metadata": {},
   "outputs": [
    {
     "name": "stdout",
     "output_type": "stream",
     "text": [
      "<xarray.DataArray (band: 1, y: 10980, x: 10980)> Size: 241MB\n",
      "[120560400 values with dtype=uint16]\n",
      "Coordinates:\n",
      "  * band         (band) int64 8B 1\n",
      "  * x            (x) float64 88kB 5e+05 5e+05 5e+05 ... 6.098e+05 6.098e+05\n",
      "  * y            (y) float64 88kB 4.1e+06 4.1e+06 4.1e+06 ... 3.99e+06 3.99e+06\n",
      "    spatial_ref  int64 8B 0\n",
      "Attributes:\n",
      "    OVR_RESAMPLING_ALG:  AVERAGE\n",
      "    AREA_OR_POINT:       Area\n",
      "    _FillValue:          0\n",
      "    scale_factor:        1.0\n",
      "    add_offset:          0.0\n"
     ]
    }
   ],
   "source": [
    "import rioxarray\n",
    "import pystac\n",
    "from pystac_client import Client\n",
    "from shapely.geometry import Point\n",
    "\n",
    "api_url = \"https://earth-search.aws.element84.com/v1\"\n",
    "client = Client.open(api_url)\n",
    "collections = client.get_collections()\n",
    "\n",
    "collection_sentinel_2_l2a = \"sentinel-2-l2a\"\n",
    "point = Point(27.95, 36.20)\n",
    "\n",
    "# Task 1\n",
    "# for collection in collections:\n",
    "#     print(collection)\n",
    "\n",
    "#Task 2\n",
    "# search = client.search(\n",
    "#     collections=[collection_sentinel_2_l2a],\n",
    "#     intersects=point,\n",
    "# )\n",
    "# print(search.matched())\n",
    "\n",
    "#Task 3\n",
    "search = client.search(\n",
    "    collections=[collection_sentinel_2_l2a],\n",
    "    intersects=point,\n",
    "    datetime='2023-07-01/2023-08-31',\n",
    "    query=['eo:cloud_cover<1']\n",
    ")\n",
    "items = search.item_collection()\n",
    "# print(len(items))\n",
    "# for item in items:\n",
    "#     print(items)\n",
    "\n",
    "item = items[0]\n",
    "# print(item.datetime)\n",
    "# print(item.geometry)\n",
    "# print(item.properties)\n",
    "# print(item.properties['proj:code'])\n",
    "\n",
    "# #Saving File\n",
    "# items.save_object(\"rhodes_sentinel-2.json\")\n",
    "items_loaded = pystac.ItemCollection.from_file(\"rhodes_sentinel-2.json\")\n",
    "\n",
    "assets = items[-1].assets\n",
    "# print(assets.keys())\n",
    "# for key, asset in assets.items():\n",
    "#     print(f\"{key}: {asset.title}\")\n",
    "# print(assets[\"thumbnail\"].href)\n",
    "# print(items[0].assets[\"thumbnail\"].href)\n",
    "\n",
    "#Using rioxarray\n",
    "red_href = assets[\"red\"].href\n",
    "red = rioxarray.open_rasterio(red_href)\n",
    "print(red)\n",
    "# red.rio.to_raster(\"red.tif\")\n",
    "\n",
    "#Much Quicker and Smaller File\n",
    "red_subset = red.rio.clip_box(\n",
    "    minx=560900,\n",
    "    miny=3995000,\n",
    "    maxx=570900,\n",
    "    maxy=4015000\n",
    ")\n",
    "red_subset.rio.to_raster(\"red_subset.tif\")"
   ]
  },
  {
   "cell_type": "code",
   "execution_count": 8,
   "id": "285fc73a-ef44-48b7-8470-6e834822bde1",
   "metadata": {},
   "outputs": [
    {
     "name": "stdout",
     "output_type": "stream",
     "text": [
      "12\n"
     ]
    }
   ],
   "source": [
    "#Exercise 1\n",
    "search = client.search(\n",
    "    collections=[collection_sentinel_2_l2a],\n",
    "    intersects=point,\n",
    "    datetime='2023-07-01/2023-08-31'\n",
    ")\n",
    "print(search.matched())"
   ]
  },
  {
   "cell_type": "code",
   "execution_count": 14,
   "id": "4d8bd0df-4762-4ceb-9f89-390d3d507730",
   "metadata": {},
   "outputs": [
    {
     "name": "stdout",
     "output_type": "stream",
     "text": [
      "11\n"
     ]
    }
   ],
   "source": [
    "#Exercise 2\n",
    "search = client.search(\n",
    "    collections=[collection_sentinel_2_l2a],\n",
    "    intersects=point,\n",
    "    datetime='2023-07-01/2023-08-31',\n",
    "    query=['eo:cloud_cover<1']\n",
    ")\n",
    "print(search.matched())"
   ]
  },
  {
   "cell_type": "code",
   "execution_count": 27,
   "id": "2edc1066-fbb3-4696-a0cc-95b348086763",
   "metadata": {},
   "outputs": [
    {
     "name": "stdout",
     "output_type": "stream",
     "text": [
      "5\n",
      "<Item id=HLS.L30.T18TWL.2021039T153324.v2.0>\n",
      "https://data.lpdaac.earthdatacloud.nasa.gov/lp-prod-public/HLSL30.020/HLS.L30.T18TWL.2021039T153324.v2.0/HLS.L30.T18TWL.2021039T153324.v2.0.jpg\n"
     ]
    }
   ],
   "source": [
    "#Exercise 3\n",
    "cmr_api_url = \"https://cmr.earthdata.nasa.gov/stac/LPCLOUD\"\n",
    "client = Client.open(cmr_api_url)\n",
    "\n",
    "search = client.search(\n",
    "    collections=[\"HLSL30.v2.0\"],\n",
    "    intersects=Point(-73.97, 40.78),\n",
    "    datetime=\"2021-02-01/2021-03-30\",\n",
    ")\n",
    "\n",
    "\n",
    "items = search.item_collection()\n",
    "print(len(items))\n",
    "\n",
    "items_sorted = sorted(items, key=lambda x: x.properties[\"eo:cloud_cover\"]) # sorting and then selecting by cloud cover\n",
    "item = items_sorted[0]\n",
    "print(item)\n",
    "\n",
    "print(item.assets[\"browse\"].href)"
   ]
  },
  {
   "cell_type": "code",
   "execution_count": null,
   "id": "b6c6fe81-91a4-4327-bd86-d86111221b35",
   "metadata": {},
   "outputs": [],
   "source": []
  }
 ],
 "metadata": {
  "kernelspec": {
   "display_name": "Python 3 (ipykernel)",
   "language": "python",
   "name": "python3"
  },
  "language_info": {
   "codemirror_mode": {
    "name": "ipython",
    "version": 3
   },
   "file_extension": ".py",
   "mimetype": "text/x-python",
   "name": "python",
   "nbconvert_exporter": "python",
   "pygments_lexer": "ipython3",
   "version": "3.12.11"
  }
 },
 "nbformat": 4,
 "nbformat_minor": 5
}
